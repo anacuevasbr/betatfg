{
 "cells": [
  {
   "cell_type": "markdown",
   "metadata": {},
   "source": [
    "<h1><center>Práctica 6</center></h1>\n",
    "<h2><center>Morfología Binaria</center></h2>"
   ]
  },
  {
   "cell_type": "code",
   "execution_count": 1,
   "metadata": {},
   "outputs": [],
   "source": [
    "#importamos librerías necesarias\n",
    "import numpy as np\n",
    "import cv2\n",
    "import matplotlib.pyplot as plt\n",
    "import math\n",
    "import RGB2HSI\n",
    "\n",
    "import copy"
   ]
  },
  {
   "cell_type": "markdown",
   "metadata": {},
   "source": [
    "The objective of this exercise is to learn about the use of mathematical morphology in image processing, specifically in binary images. We will be working with the image 'Board_Recorte.tif', a true color image, using segmentation (from exercise 4) and mathematical morphology to identify the chips on the circuit shown in the image."
   ]
  },
  {
   "cell_type": "markdown",
   "metadata": {},
   "source": [
    "**I. Transformation of the space** \n",
    "\n",
    "Read the image 'Board_Recorte.tif' and display the image, identify the 7 biggest chips on the circuit."
   ]
  },
  {
   "cell_type": "code",
   "execution_count": null,
   "metadata": {},
   "outputs": [],
   "source": []
  },
  {
   "cell_type": "markdown",
   "metadata": {},
   "source": [
    "Divide the image by its color components (R, G, B) and display each component. Is any of the components more helpful when it comes to visually separating the chips?"
   ]
  },
  {
   "cell_type": "code",
   "execution_count": null,
   "metadata": {},
   "outputs": [],
   "source": []
  },
  {
   "cell_type": "markdown",
   "metadata": {},
   "source": [
    "RGB is not helpful when it comes to separating elements that are black, gray or white because these colors have the same value in all three components. Other spaces to represent color are better for this, for example [HSI](https://www.blackice.com/colorspaceHSI.htm). Use the function RGB2HSI that comes with this exercise (it should appear in the first cell between the imported libraries), display each of the components (H, S, I) of this new image. Is any of the components more helpful when it comes to visually differentiating the chips?\n",
    "\n",
    "[answer cell](#HSIcomponents)"
   ]
  },
  {
   "cell_type": "code",
   "execution_count": null,
   "metadata": {},
   "outputs": [],
   "source": []
  },
  {
   "cell_type": "markdown",
   "metadata": {},
   "source": [
    "Choose one component (call this variable 'Component') to continue with the process of identifying the 7 chips. Look at the range and data type of this component, make sure it's an uint8 with values between 0 and 255, if that isn't the case do the necessary steps to transform it."
   ]
  },
  {
   "cell_type": "code",
   "execution_count": null,
   "metadata": {},
   "outputs": [],
   "source": []
  },
  {
   "cell_type": "markdown",
   "metadata": {},
   "source": [
    "**II. Thresholding and filtering**\n",
    "\n",
    "To work with morphology we need a binary image. Display the histogram of 'Component' to see if there's a clear value we could use as a threshold.\n",
    "Since there isn't a clear choice for the value of the threshold we will be using OTSU (as shown is exercise 1). Use the function threshold from opencv, make sure the resulting image is uint8 with a maximun value of 255. Display the resulting image.\n",
    "\n",
    "[answer cell](#Sthresh)"
   ]
  },
  {
   "cell_type": "code",
   "execution_count": null,
   "metadata": {},
   "outputs": [],
   "source": []
  },
  {
   "cell_type": "markdown",
   "metadata": {},
   "source": [
    "Analize the image and think of an spatial filter used in past exercises that could be used to clean the inside of the chips and that would maintain the binary values of the images. Use a 5X5 kernel for the filtering and display the resulting image.\n",
    "\n",
    "[answer cell](#spatialfilter)"
   ]
  },
  {
   "cell_type": "code",
   "execution_count": null,
   "metadata": {},
   "outputs": [],
   "source": []
  },
  {
   "cell_type": "markdown",
   "metadata": {},
   "source": [
    "**III. Using mathematical morphology**\n",
    "\n",
    "Morphoplogical image processing is a series of non-linear operations related to the shape of the features in an image, more about [morphology](https://www.cs.auckland.ac.nz/courses/compsci773s1c/lectures/ImageProcessing-html/topic4.htm). All operations used in morpholgy need an structuring element which in our case is a numpy matrix of ones. Create an structuring element of size 35X35, call this variable 'EE'"
   ]
  },
  {
   "cell_type": "code",
   "execution_count": null,
   "metadata": {},
   "outputs": [],
   "source": []
  },
  {
   "cell_type": "markdown",
   "metadata": {},
   "source": [
    "Use 'EE' to apply the following morphological transformations. [Here](https://docs.opencv.org/trunk/d9/d61/tutorial_py_morphological_ops.html) you can find a guide to the different morphological transformations and their use in opencv.\n",
    "\n",
    "- [Erosion](https://docs.opencv.org/trunk/d4/d86/group__imgproc__filter.html#gaeb1e0c1033e3f6b891a25d0511362aeb)\n",
    "- [Dilation](https://docs.opencv.org/trunk/d4/d86/group__imgproc__filter.html#ga4ff0f3318642c4f469d0e11f242f3b6c)\n",
    "- [Open](https://docs.opencv.org/trunk/d4/d86/group__imgproc__filter.html#ga67493776e3ad1a3df63883829375201f)\n",
    "- [Close](https://docs.opencv.org/trunk/d4/d86/group__imgproc__filter.html#ga67493776e3ad1a3df63883829375201f)\n",
    "\n",
    "Display the resulting image of each of the operations. Keep in mind that some will return a completely black imge."
   ]
  },
  {
   "cell_type": "code",
   "execution_count": null,
   "metadata": {},
   "outputs": [],
   "source": []
  },
  {
   "cell_type": "code",
   "execution_count": null,
   "metadata": {},
   "outputs": [],
   "source": []
  },
  {
   "cell_type": "code",
   "execution_count": null,
   "metadata": {},
   "outputs": [],
   "source": []
  },
  {
   "cell_type": "code",
   "execution_count": null,
   "metadata": {},
   "outputs": [],
   "source": []
  },
  {
   "cell_type": "markdown",
   "metadata": {},
   "source": [
    "Looking at the images resulting from the different transformations, choose one that delimitates our 7 chips the best. This variable will be called 'Im_Res_Morf'. Bring the seven chips to the forefront (value 255) and make the rest of the image background (value 0)\n",
    "\n",
    "[answer cell](#Closing)"
   ]
  },
  {
   "cell_type": "code",
   "execution_count": null,
   "metadata": {},
   "outputs": [],
   "source": []
  },
  {
   "cell_type": "markdown",
   "metadata": {},
   "source": [
    "**IV. Segmentation of objects**\n",
    "\n",
    "For the segmentation of 'Im_Res_morf' we will be using the function cv2.connectedComponentsWithStats() from exercise 4. Name the labeled image IM_seg and display it using the colormap plt.cm.get_cmap('nipy_spectral'). Does the number of objects correspond with the number of chips? (Keep in mind that the function used counts the background as an object).\n",
    "\n",
    "[answer cell](#IM_Seg)"
   ]
  },
  {
   "cell_type": "code",
   "execution_count": null,
   "metadata": {},
   "outputs": [],
   "source": []
  },
  {
   "cell_type": "markdown",
   "metadata": {},
   "source": [
    "**V. Squares and rectangles**\n",
    "\n",
    "Looking at the original image we can see that our seven chips can be divided in two groups, squares and rectangles. We will be using the stats given by the function cv2.connectedComponentsWithStats() to separate these two groups.\n",
    "First create two empty lists one called square the other rectangle. \n",
    "To differentiate the squares from the rectangles we will subtract the maximun width  from the maximun heigh of each object, this two values are given as stats by the function used for the segmentation. The absolute value of this operation will be lower in the squares.\n",
    "\n",
    "Hint: Use a for loop, and the Number of objects given by the function. Keep in mind that the background is counted as an object but shouldn't be classified as a rectangle chip."
   ]
  },
  {
   "cell_type": "code",
   "execution_count": null,
   "metadata": {},
   "outputs": [],
   "source": []
  },
  {
   "cell_type": "markdown",
   "metadata": {},
   "source": [
    "Now you should have two arrays with tag numbers separated in squares and rectangles. Create two new images as [deepcopys](https://docs.python.org/2/library/copy.html) of IM_Seg, one called 'Only_square' and the other 'Only_rect'. \n",
    "'Only_square' must be a binary image that contains only the square chips and viceversa for 'Only_Rect'. \n",
    "\n",
    "[answer cell](#squaresrectangles)"
   ]
  },
  {
   "cell_type": "code",
   "execution_count": null,
   "metadata": {},
   "outputs": [],
   "source": []
  },
  {
   "cell_type": "markdown",
   "metadata": {},
   "source": [
    "**VI. Morphological gradient**\n",
    "\n",
    "Mathematical morphology can also be used to get the borders of objects. This is called the morphological gradient which is the difference between the dilation and erosion of an image. We will be acting over the image we used for the segmetation (Im_Res_Morf) with a new structural element. Opencv has a [funtion](https://docs.opencv.org/3.4/d4/d86/group__imgproc__filter.html#gac342a1bb6eabf6f55c803b09268e36dc) to create structural elements of specific shapes. For this we will use and ellipse of size 5X5 which makes a circular structural element.\n",
    "To do the gradient we could do both the dilation and erosion and then subtract them or we could use cv2.morphologyEx() with the parameter cv2.MORPH_GRADIENT. Display the resulting image.\n",
    "\n",
    "[answer cell](#gradient)"
   ]
  },
  {
   "cell_type": "code",
   "execution_count": null,
   "metadata": {},
   "outputs": [],
   "source": []
  },
  {
   "cell_type": "markdown",
   "metadata": {},
   "source": [
    "<h2>Cells with the answer images</h2>"
   ]
  },
  {
   "cell_type": "markdown",
   "metadata": {},
   "source": [
    "**I. Transformation of the space**\n",
    "\n",
    "HSI components\n",
    "\n",
    "<a id='HSIcomponents'></a>\n",
    "\n",
    "![HSIcomponents](answerimages/HSIcomponents.PNG)"
   ]
  },
  {
   "cell_type": "markdown",
   "metadata": {},
   "source": [
    "II. Thresholding and filtering\n",
    "\n",
    "    -Thresholding S\n",
    "\n",
    "<a id='Sthresh'></a>\n",
    "\n",
    "![Sthresh](answerimages/Sthresh.PNG)"
   ]
  },
  {
   "cell_type": "markdown",
   "metadata": {},
   "source": [
    "    -Spatial filtering\n",
    "\n",
    "<a id='spatialfilter'></a>\n",
    "\n",
    "![spatialfilter](answerimages/spatialfilter.PNG)"
   ]
  },
  {
   "cell_type": "markdown",
   "metadata": {},
   "source": [
    "III. Using mathematical morphology\n",
    "\n",
    "    -Closing\n",
    "\n",
    "<a id='Closing'></a>\n",
    "\n",
    "![Closing](answerimages/Closing.PNG)"
   ]
  },
  {
   "cell_type": "markdown",
   "metadata": {},
   "source": [
    "IV. Segmentation of objects\n",
    "\n",
    "\n",
    "<a id='IM_Seg'></a>\n",
    "\n",
    "![IM_Seg](answerimages/IM_Seg.PNG)"
   ]
  },
  {
   "cell_type": "markdown",
   "metadata": {},
   "source": [
    "V. Squares and rectangles\n",
    "\n",
    "\n",
    "<a id='squaresrectangles'></a>\n",
    "\n",
    "![squaresrectangles](answerimages/squaresrectangles.PNG)"
   ]
  },
  {
   "cell_type": "markdown",
   "metadata": {},
   "source": [
    "VI. Morphological gradient\n",
    "\n",
    "\n",
    "<a id='gradient'></a>\n",
    "\n",
    "![gradient](answerimages/gradient.PNG)"
   ]
  },
  {
   "cell_type": "code",
   "execution_count": null,
   "metadata": {},
   "outputs": [],
   "source": []
  }
 ],
 "metadata": {
  "kernelspec": {
   "display_name": "Python 3",
   "language": "python",
   "name": "python3"
  },
  "language_info": {
   "codemirror_mode": {
    "name": "ipython",
    "version": 3
   },
   "file_extension": ".py",
   "mimetype": "text/x-python",
   "name": "python",
   "nbconvert_exporter": "python",
   "pygments_lexer": "ipython3",
   "version": "3.7.4"
  }
 },
 "nbformat": 4,
 "nbformat_minor": 2
}
